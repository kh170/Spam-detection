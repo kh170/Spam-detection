{
 "cells": [
  {
   "cell_type": "markdown",
   "metadata": {},
   "source": [
    "# SMS SPAM PREDICTION\n",
    "\n",
    "Name: KHANDKER SADIA RAHMAN\n",
    "\n",
    "ID: AI 14"
   ]
  },
  {
   "cell_type": "markdown",
   "metadata": {},
   "source": [
    "The data used in this assignment includes a public set of SMS labeled messages that have been collected for mobile phone spam researce. Different feature extraction methods and algorithms have been used to determine the best fit model for SPAM detection. The steps are explained below along with the code."
   ]
  },
  {
   "cell_type": "markdown",
   "metadata": {},
   "source": [
    "FEATURE EXTRACTION METHODS INCLUDE:\n",
    "\n",
    "1.CountVectorizer \n",
    "\n",
    "2.TfidfVectorizer\n",
    "\n",
    "ALGORITHMS USED:\n",
    "\n",
    "1.MultinomialNB\n",
    "\n",
    "2.Decision Tree\n",
    "\n",
    "3.KNN\n",
    "\n",
    "4.Logistic Regression\n",
    "\n",
    "5.MLPClassifier (Neural Network)\n"
   ]
  },
  {
   "cell_type": "markdown",
   "metadata": {},
   "source": [
    "# Steps:"
   ]
  },
  {
   "cell_type": "markdown",
   "metadata": {},
   "source": [
    "1.The necessary libraries are imported."
   ]
  },
  {
   "cell_type": "code",
   "execution_count": 1,
   "metadata": {},
   "outputs": [
    {
     "name": "stderr",
     "output_type": "stream",
     "text": [
      "C:\\ProgramData\\Anaconda3\\lib\\site-packages\\sklearn\\cross_validation.py:41: DeprecationWarning: This module was deprecated in version 0.18 in favor of the model_selection module into which all the refactored classes and functions are moved. Also note that the interface of the new CV iterators are different from that of this module. This module will be removed in 0.20.\n",
      "  \"This module will be removed in 0.20.\", DeprecationWarning)\n"
     ]
    }
   ],
   "source": [
    "import pandas as pd\n",
    "import numpy as np\n",
    "import matplotlib.pyplot as plt\n",
    "from sklearn.feature_extraction.text import CountVectorizer\n",
    "from sklearn.feature_extraction.text import TfidfVectorizer\n",
    "from sklearn.cross_validation import train_test_split\n",
    "from sklearn.naive_bayes import MultinomialNB\n",
    "from sklearn.tree import DecisionTreeClassifier\n",
    "from sklearn.neighbors import KNeighborsClassifier\n",
    "from sklearn.linear_model import LogisticRegression\n",
    "from sklearn.neural_network import MLPClassifier\n",
    "from sklearn.cross_validation import KFold,cross_val_score"
   ]
  },
  {
   "cell_type": "markdown",
   "metadata": {},
   "source": [
    "2.The data provided is first converted to a .csv file and then read into a DataFrame (pandas):"
   ]
  },
  {
   "cell_type": "code",
   "execution_count": 2,
   "metadata": {
    "collapsed": true
   },
   "outputs": [],
   "source": [
    "data=pd.read_csv(\"SMSSpamCollection.csv\",header=None,names=[\"label\",\"message\"])"
   ]
  },
  {
   "cell_type": "code",
   "execution_count": 3,
   "metadata": {},
   "outputs": [
    {
     "data": {
      "text/plain": [
       "5572"
      ]
     },
     "execution_count": 3,
     "metadata": {},
     "output_type": "execute_result"
    }
   ],
   "source": [
    "len(data)"
   ]
  },
  {
   "cell_type": "code",
   "execution_count": 4,
   "metadata": {},
   "outputs": [
    {
     "data": {
      "text/html": [
       "<div>\n",
       "<style>\n",
       "    .dataframe thead tr:only-child th {\n",
       "        text-align: right;\n",
       "    }\n",
       "\n",
       "    .dataframe thead th {\n",
       "        text-align: left;\n",
       "    }\n",
       "\n",
       "    .dataframe tbody tr th {\n",
       "        vertical-align: top;\n",
       "    }\n",
       "</style>\n",
       "<table border=\"1\" class=\"dataframe\">\n",
       "  <thead>\n",
       "    <tr style=\"text-align: right;\">\n",
       "      <th></th>\n",
       "      <th>label</th>\n",
       "      <th>message</th>\n",
       "    </tr>\n",
       "  </thead>\n",
       "  <tbody>\n",
       "    <tr>\n",
       "      <th>0</th>\n",
       "      <td>ham</td>\n",
       "      <td>Go until jurong point, crazy.. Available only ...</td>\n",
       "    </tr>\n",
       "    <tr>\n",
       "      <th>1</th>\n",
       "      <td>ham</td>\n",
       "      <td>Ok lar... Joking wif u oni...</td>\n",
       "    </tr>\n",
       "    <tr>\n",
       "      <th>2</th>\n",
       "      <td>spam</td>\n",
       "      <td>Free entry in 2 a wkly comp to win FA Cup fina...</td>\n",
       "    </tr>\n",
       "    <tr>\n",
       "      <th>3</th>\n",
       "      <td>ham</td>\n",
       "      <td>U dun say so early hor... U c already then say...</td>\n",
       "    </tr>\n",
       "    <tr>\n",
       "      <th>4</th>\n",
       "      <td>ham</td>\n",
       "      <td>Nah I don't think he goes to usf, he lives aro...</td>\n",
       "    </tr>\n",
       "  </tbody>\n",
       "</table>\n",
       "</div>"
      ],
      "text/plain": [
       "  label                                            message\n",
       "0   ham  Go until jurong point, crazy.. Available only ...\n",
       "1   ham                      Ok lar... Joking wif u oni...\n",
       "2  spam  Free entry in 2 a wkly comp to win FA Cup fina...\n",
       "3   ham  U dun say so early hor... U c already then say...\n",
       "4   ham  Nah I don't think he goes to usf, he lives aro..."
      ]
     },
     "execution_count": 4,
     "metadata": {},
     "output_type": "execute_result"
    }
   ],
   "source": [
    "data.head(5)"
   ]
  },
  {
   "cell_type": "markdown",
   "metadata": {},
   "source": [
    "3.The SPAM/HAM is converted into binary classes with '1' representing 'HAM' and '0' representing 'SPAM':"
   ]
  },
  {
   "cell_type": "code",
   "execution_count": 5,
   "metadata": {
    "collapsed": true
   },
   "outputs": [],
   "source": [
    "data[\"label\"]=data[\"label\"].replace(to_replace=\"ham\",value=1)\n",
    "data[\"label\"]=data[\"label\"].replace(to_replace=\"spam\",value=0)"
   ]
  },
  {
   "cell_type": "code",
   "execution_count": 6,
   "metadata": {},
   "outputs": [
    {
     "data": {
      "text/html": [
       "<div>\n",
       "<style>\n",
       "    .dataframe thead tr:only-child th {\n",
       "        text-align: right;\n",
       "    }\n",
       "\n",
       "    .dataframe thead th {\n",
       "        text-align: left;\n",
       "    }\n",
       "\n",
       "    .dataframe tbody tr th {\n",
       "        vertical-align: top;\n",
       "    }\n",
       "</style>\n",
       "<table border=\"1\" class=\"dataframe\">\n",
       "  <thead>\n",
       "    <tr style=\"text-align: right;\">\n",
       "      <th></th>\n",
       "      <th>label</th>\n",
       "      <th>message</th>\n",
       "    </tr>\n",
       "  </thead>\n",
       "  <tbody>\n",
       "    <tr>\n",
       "      <th>0</th>\n",
       "      <td>1</td>\n",
       "      <td>Go until jurong point, crazy.. Available only ...</td>\n",
       "    </tr>\n",
       "    <tr>\n",
       "      <th>1</th>\n",
       "      <td>1</td>\n",
       "      <td>Ok lar... Joking wif u oni...</td>\n",
       "    </tr>\n",
       "    <tr>\n",
       "      <th>2</th>\n",
       "      <td>0</td>\n",
       "      <td>Free entry in 2 a wkly comp to win FA Cup fina...</td>\n",
       "    </tr>\n",
       "    <tr>\n",
       "      <th>3</th>\n",
       "      <td>1</td>\n",
       "      <td>U dun say so early hor... U c already then say...</td>\n",
       "    </tr>\n",
       "    <tr>\n",
       "      <th>4</th>\n",
       "      <td>1</td>\n",
       "      <td>Nah I don't think he goes to usf, he lives aro...</td>\n",
       "    </tr>\n",
       "  </tbody>\n",
       "</table>\n",
       "</div>"
      ],
      "text/plain": [
       "   label                                            message\n",
       "0      1  Go until jurong point, crazy.. Available only ...\n",
       "1      1                      Ok lar... Joking wif u oni...\n",
       "2      0  Free entry in 2 a wkly comp to win FA Cup fina...\n",
       "3      1  U dun say so early hor... U c already then say...\n",
       "4      1  Nah I don't think he goes to usf, he lives aro..."
      ]
     },
     "execution_count": 6,
     "metadata": {},
     "output_type": "execute_result"
    }
   ],
   "source": [
    "data.head(5)"
   ]
  },
  {
   "cell_type": "markdown",
   "metadata": {},
   "source": [
    "3.The data is split into train and test sets using 'train_test_split' where 70% of the data is in the train set and 30% of the data in the test set: "
   ]
  },
  {
   "cell_type": "code",
   "execution_count": 7,
   "metadata": {
    "collapsed": true
   },
   "outputs": [],
   "source": [
    "x=data.message\n",
    "y=data.label"
   ]
  },
  {
   "cell_type": "code",
   "execution_count": 8,
   "metadata": {
    "collapsed": true
   },
   "outputs": [],
   "source": [
    "xtrain,xtest,ytrain,ytest=train_test_split(x,y,test_size=0.3)"
   ]
  },
  {
   "cell_type": "code",
   "execution_count": 9,
   "metadata": {
    "collapsed": true
   },
   "outputs": [],
   "source": [
    "y_test=np.array(ytest)"
   ]
  },
  {
   "cell_type": "markdown",
   "metadata": {},
   "source": [
    "4.The 'Countvectorizer' is used for feature extraction and 'MultinomialNB' for prediction:"
   ]
  },
  {
   "cell_type": "code",
   "execution_count": 10,
   "metadata": {
    "collapsed": true
   },
   "outputs": [],
   "source": [
    "cv=CountVectorizer()"
   ]
  },
  {
   "cell_type": "code",
   "execution_count": 11,
   "metadata": {
    "collapsed": true
   },
   "outputs": [],
   "source": [
    "accuracyCV=[]\n",
    "for i in range(30):\n",
    "    xtrain,xtest,ytrain,ytest=train_test_split(x,y,test_size=0.3)\n",
    "    xtrainCV=cv.fit_transform(xtrain)\n",
    "    xtestCV=cv.transform(xtest)\n",
    "    mnb1=MultinomialNB() \n",
    "    mnb1.fit(xtrainCV,ytrain)\n",
    "    predCV=mnb1.predict(xtestCV)\n",
    "    countCV=0\n",
    "    for i in range(len(ytest)):\n",
    "        if predCV[i]==y_test[i]:\n",
    "            countCV+=1\n",
    "    accuracyCV.append((countCV/len(y_test))*100)\n",
    "accCV=np.array(accuracyCV).mean()"
   ]
  },
  {
   "cell_type": "code",
   "execution_count": 12,
   "metadata": {},
   "outputs": [
    {
     "data": {
      "text/plain": [
       "77.085326953748009"
      ]
     },
     "execution_count": 12,
     "metadata": {},
     "output_type": "execute_result"
    }
   ],
   "source": [
    "accCV #FOR CountVectorizer"
   ]
  },
  {
   "cell_type": "markdown",
   "metadata": {},
   "source": [
    "5.The TfidfVectorizer is used for feature extraction and 'MultinomialNB' for prediction:"
   ]
  },
  {
   "cell_type": "code",
   "execution_count": 13,
   "metadata": {
    "collapsed": true
   },
   "outputs": [],
   "source": [
    "tv=TfidfVectorizer(min_df=1,stop_words='english')"
   ]
  },
  {
   "cell_type": "code",
   "execution_count": 14,
   "metadata": {},
   "outputs": [],
   "source": [
    "accuracyTV=[]\n",
    "for i in range(30):\n",
    "    xtrain,xtest,ytrain,ytest=train_test_split(x,y,test_size=0.3)\n",
    "    xtrainTV=tv.fit_transform(xtrain)\n",
    "    xtestTV=tv.transform(xtest)\n",
    "    mnb=MultinomialNB()\n",
    "    mnb.fit(xtrainTV,ytrain)\n",
    "    predTV=mnb.predict(xtestTV)\n",
    "    countTV=0\n",
    "    for i in range(len(ytest)):\n",
    "        if predTV[i]==y_test[i]:\n",
    "            countTV+=1\n",
    "    accuracyTV.append((countTV/len(y_test))*100)\n",
    "accTV=np.array(accuracyTV).mean()    "
   ]
  },
  {
   "cell_type": "code",
   "execution_count": 15,
   "metadata": {},
   "outputs": [
    {
     "data": {
      "text/plain": [
       "78.841706539074963"
      ]
     },
     "execution_count": 15,
     "metadata": {},
     "output_type": "execute_result"
    }
   ],
   "source": [
    "accTV #FOR TfidfVectorizer"
   ]
  },
  {
   "cell_type": "markdown",
   "metadata": {},
   "source": [
    "Step 4 and 5 is done to see the difference between the performance of 'CountVectorizer' and 'TfidfVectorizer'. Since TfidfVectorizer shows a better performance than the CountVectorizer, it is used in the following sections for feature extraction."
   ]
  },
  {
   "cell_type": "markdown",
   "metadata": {},
   "source": [
    "6.In the following section, cross-validation is used for model selection:"
   ]
  },
  {
   "cell_type": "markdown",
   "metadata": {},
   "source": [
    "A.DECISION TREE"
   ]
  },
  {
   "cell_type": "code",
   "execution_count": 16,
   "metadata": {},
   "outputs": [
    {
     "name": "stdout",
     "output_type": "stream",
     "text": [
      "96.8226021567\n"
     ]
    }
   ],
   "source": [
    "# 30 fold cross-validation with the DT model\n",
    "dt=DecisionTreeClassifier()\n",
    "score_dt=cross_val_score(dt,xtrainTV,ytrain,cv=30).mean()*100\n",
    "print(score_dt)"
   ]
  },
  {
   "cell_type": "markdown",
   "metadata": {},
   "source": [
    "B.K NEAREAST NEIGHBOR \n",
    "\n",
    "The best k value is selected first and then used for model selection"
   ]
  },
  {
   "cell_type": "code",
   "execution_count": 17,
   "metadata": {},
   "outputs": [
    {
     "data": {
      "image/png": "[encoded data removed]",
      "text/plain": [
       "<matplotlib.figure.Figure at 0x39edc795f8>"
      ]
     },
     "metadata": {},
     "output_type": "display_data"
    }
   ],
   "source": [
    "kscore=[]\n",
    "krange=range(1,31)\n",
    "for k in krange :\n",
    "    knn=KNeighborsClassifier(n_neighbors=k)\n",
    "    score_knn=cross_val_score(knn,xtrainTV,ytrain,cv=14)\n",
    "    kscore.append(score_knn.mean())\n",
    "\n",
    "plt.plot(krange,kscore)\n",
    "plt.show() \n"
   ]
  },
  {
   "cell_type": "code",
   "execution_count": 18,
   "metadata": {},
   "outputs": [
    {
     "name": "stdout",
     "output_type": "stream",
     "text": [
      "[1, 2, 3, 4, 5, 6, 7, 8, 9, 10, 11, 12, 13, 14, 15, 16, 17, 18, 19, 20, 21, 22, 23, 24, 25, 26, 27, 28, 29, 30]\n"
     ]
    },
    {
     "data": {
      "text/plain": [
       "(array([0, 1], dtype=int64),)"
      ]
     },
     "execution_count": 18,
     "metadata": {},
     "output_type": "execute_result"
    }
   ],
   "source": [
    "kscore=np.array(kscore)\n",
    "k=np.where( kscore==kscore.max())\n",
    "print([i for i in krange])\n",
    "k"
   ]
  },
  {
   "cell_type": "markdown",
   "metadata": {},
   "source": [
    "Hence the k value corresponds to 1 and 2. Either of the values can be used for maximum accuracy."
   ]
  },
  {
   "cell_type": "code",
   "execution_count": 19,
   "metadata": {},
   "outputs": [
    {
     "name": "stdout",
     "output_type": "stream",
     "text": [
      "94.1543058988\n"
     ]
    }
   ],
   "source": [
    "# 30 fold cross-validation with the best KNN model\n",
    "knn=KNeighborsClassifier(n_neighbors=2)\n",
    "score_knn=cross_val_score(knn,xtrainTV,ytrain,cv=30).mean()*100\n",
    "print(score_knn)"
   ]
  },
  {
   "cell_type": "markdown",
   "metadata": {},
   "source": [
    "C.LOGRITHM REGRESSION"
   ]
  },
  {
   "cell_type": "code",
   "execution_count": 20,
   "metadata": {},
   "outputs": [
    {
     "name": "stdout",
     "output_type": "stream",
     "text": [
      "94.6694843118\n"
     ]
    }
   ],
   "source": [
    "# 30 fold cross-validation with the logistic regression model\n",
    "logreg=LogisticRegression()\n",
    "score_lr=cross_val_score(logreg,xtrainTV,ytrain,cv=30).mean()*100\n",
    "print(score_lr)"
   ]
  },
  {
   "cell_type": "markdown",
   "metadata": {},
   "source": [
    "D.NEURAL NETWORK"
   ]
  },
  {
   "cell_type": "markdown",
   "metadata": {},
   "source": [
    "The hidden_layer_sizes is calculated using cross validation."
   ]
  },
  {
   "cell_type": "code",
   "execution_count": 21,
   "metadata": {},
   "outputs": [
    {
     "data": {
      "image/png": "[encoded data removed]",
      "text/plain": [
       "<matplotlib.figure.Figure at 0x39edd3b278>"
      ]
     },
     "metadata": {},
     "output_type": "display_data"
    }
   ],
   "source": [
    "irange=range(1,10)\n",
    "scoreNN=[]\n",
    "\n",
    "for i in irange:\n",
    "    tup=(i,i)\n",
    "    nn=MLPClassifier(hidden_layer_sizes=tup,activation=\"relu\",solver=\"lbfgs\")\n",
    "    score_nn=cross_val_score(nn,xtrainTV,ytrain,cv=10)\n",
    "    scoreNN.append(score_nn.mean())\n",
    "plt.plot(irange,scoreNN)\n",
    "plt.show()"
   ]
  },
  {
   "cell_type": "code",
   "execution_count": 22,
   "metadata": {},
   "outputs": [
    {
     "name": "stdout",
     "output_type": "stream",
     "text": [
      "[1, 2, 3, 4, 5, 6, 7, 8, 9]\n"
     ]
    },
    {
     "data": {
      "text/plain": [
       "(array([8], dtype=int64),)"
      ]
     },
     "execution_count": 22,
     "metadata": {},
     "output_type": "execute_result"
    }
   ],
   "source": [
    "scoreNN=np.array(scoreNN)\n",
    "I=np.where(scoreNN==scoreNN.max())\n",
    "print([i for i in irange])\n",
    "I"
   ]
  },
  {
   "cell_type": "code",
   "execution_count": 27,
   "metadata": {},
   "outputs": [
    {
     "data": {
      "text/plain": [
       "97.746877754866404"
      ]
     },
     "execution_count": 27,
     "metadata": {},
     "output_type": "execute_result"
    }
   ],
   "source": [
    "i=9\n",
    "tup=(i,i)\n",
    "nn=MLPClassifier(hidden_layer_sizes=tup,activation=\"relu\",solver=\"lbfgs\",max_iter=200)\n",
    "score_nn=cross_val_score(nn,xtrainTV,ytrain,cv=30).mean()\n",
    "score_nn*100\n",
    "    "
   ]
  },
  {
   "cell_type": "code",
   "execution_count": 28,
   "metadata": {},
   "outputs": [
    {
     "name": "stdout",
     "output_type": "stream",
     "text": [
      "COMPARISON BETWEEN CountVectorizer and TfidfVectorizer USING MulitnomialNB:\n",
      "         Algorithm      Score\n",
      "0  CountVectorizer  77.085327\n",
      "1  TfidfVectorizer  78.841707\n",
      "SCORES OF THE VARIOUS ALGORITHMS:\n",
      "             Algorithm      Score\n",
      "0        Decision Tree  96.822602\n",
      "1                  KNN  94.154306\n",
      "2  Logistic Regression  94.669484\n",
      "3       Neural Network  97.746878\n"
     ]
    }
   ],
   "source": [
    "a1=[\"CountVectorizer\",\"TfidfVectorizer\"]\n",
    "s1=[accCV,accTV]\n",
    "r1={\"Algorithm\":a1,\"Score\":s1}\n",
    "result1=pd.DataFrame(data=r1)\n",
    "a2=[\"Decision Tree\",\"KNN\",\"Logistic Regression\",\"Neural Network\"]\n",
    "s2=[score_dt,score_knn,score_lr,score_nn*100]\n",
    "r2={\"Algorithm\":a2,\"Score\":s2}\n",
    "result2=pd.DataFrame(data=r2)\n",
    "print(\"COMPARISON BETWEEN CountVectorizer and TfidfVectorizer USING MulitnomialNB:\")\n",
    "print(result1)\n",
    "print(\"SCORES OF THE VARIOUS ALGORITHMS:\")\n",
    "print(result2)"
   ]
  },
  {
   "cell_type": "markdown",
   "metadata": {},
   "source": [
    "From the table above, neural network shows the highest accuracy."
   ]
  },
  {
   "cell_type": "markdown",
   "metadata": {},
   "source": [
    "7.USING \"K fold cross-validation\" INSTEAD OF \"train_test_split\" FOR \"MultinomialNB\":"
   ]
  },
  {
   "cell_type": "code",
   "execution_count": 29,
   "metadata": {
    "collapsed": true
   },
   "outputs": [],
   "source": [
    "kf=KFold(len(data),n_folds=14)\n",
    "for train_index,test_index in kf:\n",
    "    x_train,x_test=x[train_index],x[test_index]\n",
    "    y_train,y_test=y[train_index],y[test_index]\n",
    "    xtrain_TV=tv.fit_transform(x_train)\n",
    "    xtest_TV=tv.transform(x_test)\n",
    "    mnb=MultinomialNB()\n",
    "    score_mnb=cross_val_score(mnb,xtrain_TV,y_train,cv=30,scoring=\"accuracy\")\n",
    "accuracy_mnb=score_mnb.mean()*100"
   ]
  },
  {
   "cell_type": "code",
   "execution_count": 30,
   "metadata": {},
   "outputs": [
    {
     "data": {
      "text/plain": [
       "97.563942801194287"
      ]
     },
     "execution_count": 30,
     "metadata": {},
     "output_type": "execute_result"
    }
   ],
   "source": [
    "accuracy_mnb #MultinomialNB "
   ]
  },
  {
   "cell_type": "markdown",
   "metadata": {},
   "source": [
    "Hence the MultinomialNB shows a better accuracy when K-fold cross validation is used instead of train test split."
   ]
  }
 ],
 "metadata": {
  "kernelspec": {
   "display_name": "Python 3",
   "language": "python",
   "name": "python3"
  },
  "language_info": {
   "codemirror_mode": {
    "name": "ipython",
    "version": 3
   },
   "file_extension": ".py",
   "mimetype": "text/x-python",
   "name": "python",
   "nbconvert_exporter": "python",
   "pygments_lexer": "ipython3",
   "version": "3.6.2"
  }
 },
 "nbformat": 4,
 "nbformat_minor": 2
}
